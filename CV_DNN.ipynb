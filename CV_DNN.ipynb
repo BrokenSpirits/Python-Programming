{
  "nbformat": 4,
  "nbformat_minor": 0,
  "metadata": {
    "colab": {
      "name": "CV_DNN.ipynb",
      "provenance": [],
      "collapsed_sections": [],
      "authorship_tag": "ABX9TyM05NXCNRer/xi4MyqdReiR",
      "include_colab_link": true
    },
    "kernelspec": {
      "name": "python3",
      "display_name": "Python 3"
    },
    "language_info": {
      "name": "python"
    }
  },
  "cells": [
    {
      "cell_type": "markdown",
      "metadata": {
        "id": "view-in-github",
        "colab_type": "text"
      },
      "source": [
        "<a href=\"https://colab.research.google.com/github/BrokenSpirits/Python-Programming/blob/main/CV_DNN.ipynb\" target=\"_parent\"><img src=\"https://colab.research.google.com/assets/colab-badge.svg\" alt=\"Open In Colab\"/></a>"
      ]
    },
    {
      "cell_type": "code",
      "metadata": {
        "id": "PSb_Jzw6BNON"
      },
      "source": [
        "import numpy as np\n",
        "import pandas as pd\n",
        "import matplotlib.pyplot as plt\n",
        "import seaborn as sns\n",
        "from tensorflow import keras"
      ],
      "execution_count": 1,
      "outputs": []
    },
    {
      "cell_type": "code",
      "metadata": {
        "id": "FaRAbpl0F_Ge"
      },
      "source": [
        "mnist_dataset = keras.datasets.mnist"
      ],
      "execution_count": 2,
      "outputs": []
    },
    {
      "cell_type": "code",
      "metadata": {
        "colab": {
          "base_uri": "https://localhost:8080/"
        },
        "id": "7zcpLzC1GWHw",
        "outputId": "784e29fb-62ad-4686-d5b3-fd604f3894a1"
      },
      "source": [
        "(xtrain,ytrain),(xtest,ytest) = mnist_dataset.load_data()"
      ],
      "execution_count": 3,
      "outputs": [
        {
          "output_type": "stream",
          "name": "stdout",
          "text": [
            "Downloading data from https://storage.googleapis.com/tensorflow/tf-keras-datasets/mnist.npz\n",
            "11493376/11490434 [==============================] - 0s 0us/step\n",
            "11501568/11490434 [==============================] - 0s 0us/step\n"
          ]
        }
      ]
    },
    {
      "cell_type": "code",
      "metadata": {
        "colab": {
          "base_uri": "https://localhost:8080/"
        },
        "id": "tR5_L3FhGsOs",
        "outputId": "1f6c00b7-3ce5-4426-f1ce-c65d0e5310fd"
      },
      "source": [
        "xtrain.shape"
      ],
      "execution_count": 4,
      "outputs": [
        {
          "output_type": "execute_result",
          "data": {
            "text/plain": [
              "(60000, 28, 28)"
            ]
          },
          "metadata": {},
          "execution_count": 4
        }
      ]
    },
    {
      "cell_type": "code",
      "metadata": {
        "colab": {
          "base_uri": "https://localhost:8080/"
        },
        "id": "xqEI6QHMHOak",
        "outputId": "e28d39e2-fbd1-4e94-abf3-19f9cfb634fa"
      },
      "source": [
        "xtest.shape"
      ],
      "execution_count": 5,
      "outputs": [
        {
          "output_type": "execute_result",
          "data": {
            "text/plain": [
              "(10000, 28, 28)"
            ]
          },
          "metadata": {},
          "execution_count": 5
        }
      ]
    },
    {
      "cell_type": "code",
      "metadata": {
        "colab": {
          "base_uri": "https://localhost:8080/"
        },
        "id": "56bB9V6KHak0",
        "outputId": "5b5293c4-711b-4b49-8df3-1bb51a9dad3e"
      },
      "source": [
        "ytrain.shape"
      ],
      "execution_count": 6,
      "outputs": [
        {
          "output_type": "execute_result",
          "data": {
            "text/plain": [
              "(60000,)"
            ]
          },
          "metadata": {},
          "execution_count": 6
        }
      ]
    },
    {
      "cell_type": "code",
      "metadata": {
        "colab": {
          "base_uri": "https://localhost:8080/",
          "height": 283
        },
        "id": "_ayTTAvXHdhE",
        "outputId": "35c78cc3-ac70-4f7c-f139-18842eddc7f9"
      },
      "source": [
        "plt.imshow(xtrain[13])"
      ],
      "execution_count": 7,
      "outputs": [
        {
          "output_type": "execute_result",
          "data": {
            "text/plain": [
              "<matplotlib.image.AxesImage at 0x7fc1b5f8b450>"
            ]
          },
          "metadata": {},
          "execution_count": 7
        },
        {
          "output_type": "display_data",
          "data": {
            "image/png": "[encoded data removed]",
            "text/plain": [
              "<Figure size 432x288 with 1 Axes>"
            ]
          },
          "metadata": {
            "needs_background": "light"
          }
        }
      ]
    },
    {
      "cell_type": "code",
      "metadata": {
        "colab": {
          "base_uri": "https://localhost:8080/"
        },
        "id": "ElIIGeRlIKCT",
        "outputId": "ee31acf8-468a-4cba-ca38-cc962ac3fad5"
      },
      "source": [
        "ytrain[13]"
      ],
      "execution_count": 8,
      "outputs": [
        {
          "output_type": "execute_result",
          "data": {
            "text/plain": [
              "6"
            ]
          },
          "metadata": {},
          "execution_count": 8
        }
      ]
    },
    {
      "cell_type": "code",
      "metadata": {
        "id": "_iBMDtpaIcfD"
      },
      "source": [
        "#Preprocessing\n",
        "xtrain=xtrain.reshape(60000,28*28) #gray_scale : 0 to 250, scale down in bw 0 & 1\n",
        "xtrain=xtrain.astype('float32')/255 #float point division"
      ],
      "execution_count": 9,
      "outputs": []
    },
    {
      "cell_type": "code",
      "metadata": {
        "id": "0JkgkqGqJuYS"
      },
      "source": [
        "xtest=xtest.reshape(10000,28*28)\n",
        "xtest=xtest.astype('float32')/255"
      ],
      "execution_count": 10,
      "outputs": []
    },
    {
      "cell_type": "code",
      "metadata": {
        "id": "Bz5m5yAMKJ_h"
      },
      "source": [
        "#Sequential API\n",
        "dnn= keras.models.Sequential() #obj_name = calssname()"
      ],
      "execution_count": 11,
      "outputs": []
    },
    {
      "cell_type": "code",
      "metadata": {
        "id": "1EQG8xoJKrWb"
      },
      "source": [
        "dnn.add(keras.layers.Dense(50,activation='relu',input_shape=xtrain.shape[1:]))"
      ],
      "execution_count": 12,
      "outputs": []
    },
    {
      "cell_type": "code",
      "metadata": {
        "id": "mTMG1owPMRVw"
      },
      "source": [
        "dnn.add(keras.layers.Dense(30,activation='relu'))"
      ],
      "execution_count": 13,
      "outputs": []
    },
    {
      "cell_type": "code",
      "metadata": {
        "id": "XW_z2hvZMza_"
      },
      "source": [
        "dnn.add(keras.layers.Dense(10,activation='softmax'))"
      ],
      "execution_count": 14,
      "outputs": []
    },
    {
      "cell_type": "code",
      "metadata": {
        "colab": {
          "base_uri": "https://localhost:8080/"
        },
        "id": "cd6jmO4FNil3",
        "outputId": "57ead836-85ea-4b40-fff8-30ce91c1b996"
      },
      "source": [
        "dnn.summary()"
      ],
      "execution_count": 15,
      "outputs": [
        {
          "output_type": "stream",
          "name": "stdout",
          "text": [
            "Model: \"sequential\"\n",
            "_________________________________________________________________\n",
            " Layer (type)                Output Shape              Param #   \n",
            "=================================================================\n",
            " dense (Dense)               (None, 50)                39250     \n",
            "                                                                 \n",
            " dense_1 (Dense)             (None, 30)                1530      \n",
            "                                                                 \n",
            " dense_2 (Dense)             (None, 10)                310       \n",
            "                                                                 \n",
            "=================================================================\n",
            "Total params: 41,090\n",
            "Trainable params: 41,090\n",
            "Non-trainable params: 0\n",
            "_________________________________________________________________\n"
          ]
        }
      ]
    },
    {
      "cell_type": "code",
      "metadata": {
        "id": "dlQSTNWwNlm4"
      },
      "source": [
        "dnn.compile(loss='sparse_categorical_crossentropy',optimizer='adam',metrics=['accuracy'])"
      ],
      "execution_count": 16,
      "outputs": []
    },
    {
      "cell_type": "code",
      "metadata": {
        "colab": {
          "base_uri": "https://localhost:8080/"
        },
        "id": "6AFe3Lo8PCj4",
        "outputId": "5345080a-426d-49f7-abe9-dacad578abd3"
      },
      "source": [
        "#Training\n",
        "history_dnn = dnn.fit(x=xtrain,y=ytrain,validation_split=0.1,epochs =10,batch_size=16)"
      ],
      "execution_count": 17,
      "outputs": [
        {
          "output_type": "stream",
          "name": "stdout",
          "text": [
            "Epoch 1/10\n",
            "3375/3375 [==============================] - 8s 2ms/step - loss: 0.2785 - accuracy: 0.9189 - val_loss: 0.1405 - val_accuracy: 0.9608\n",
            "Epoch 2/10\n",
            "3375/3375 [==============================] - 7s 2ms/step - loss: 0.1355 - accuracy: 0.9589 - val_loss: 0.1202 - val_accuracy: 0.9665\n",
            "Epoch 3/10\n",
            "3375/3375 [==============================] - 7s 2ms/step - loss: 0.1023 - accuracy: 0.9686 - val_loss: 0.1070 - val_accuracy: 0.9692\n",
            "Epoch 4/10\n",
            "3375/3375 [==============================] - 7s 2ms/step - loss: 0.0859 - accuracy: 0.9737 - val_loss: 0.0957 - val_accuracy: 0.9733\n",
            "Epoch 5/10\n",
            "3375/3375 [==============================] - 7s 2ms/step - loss: 0.0731 - accuracy: 0.9765 - val_loss: 0.1025 - val_accuracy: 0.9710\n",
            "Epoch 6/10\n",
            "3375/3375 [==============================] - 7s 2ms/step - loss: 0.0631 - accuracy: 0.9805 - val_loss: 0.0968 - val_accuracy: 0.9735\n",
            "Epoch 7/10\n",
            "3375/3375 [==============================] - 7s 2ms/step - loss: 0.0550 - accuracy: 0.9825 - val_loss: 0.1057 - val_accuracy: 0.9718\n",
            "Epoch 8/10\n",
            "3375/3375 [==============================] - 7s 2ms/step - loss: 0.0490 - accuracy: 0.9840 - val_loss: 0.1015 - val_accuracy: 0.9742\n",
            "Epoch 9/10\n",
            "3375/3375 [==============================] - 6s 2ms/step - loss: 0.0454 - accuracy: 0.9854 - val_loss: 0.1108 - val_accuracy: 0.9688\n",
            "Epoch 10/10\n",
            "3375/3375 [==============================] - 6s 2ms/step - loss: 0.0394 - accuracy: 0.9870 - val_loss: 0.1281 - val_accuracy: 0.9702\n"
          ]
        }
      ]
    },
    {
      "cell_type": "code",
      "metadata": {
        "colab": {
          "base_uri": "https://localhost:8080/",
          "height": 279
        },
        "id": "73rGgyCoP2gP",
        "outputId": "d25eee3d-d0ee-42e6-e5b4-f647616c4e1a"
      },
      "source": [
        "pd.DataFrame(history_dnn.history).plot()\n",
        "plt.xlabel(\"Epochs\")\n",
        "plt.ylabel('loss')\n",
        "plt.show()"
      ],
      "execution_count": 18,
      "outputs": [
        {
          "output_type": "display_data",
          "data": {
            "image/png": "[encoded data removed]",
            "text/plain": [
              "<Figure size 432x288 with 1 Axes>"
            ]
          },
          "metadata": {
            "needs_background": "light"
          }
        }
      ]
    },
    {
      "cell_type": "code",
      "metadata": {
        "colab": {
          "base_uri": "https://localhost:8080/"
        },
        "id": "SE7cdbi7QX9t",
        "outputId": "1535c8d5-1e0f-470a-c92e-21809e839986"
      },
      "source": [
        "test_loss,test_accuracy = dnn.evaluate(x=xtest,y=ytest)"
      ],
      "execution_count": 19,
      "outputs": [
        {
          "output_type": "stream",
          "name": "stdout",
          "text": [
            "313/313 [==============================] - 1s 2ms/step - loss: 0.1280 - accuracy: 0.9685\n"
          ]
        }
      ]
    },
    {
      "cell_type": "code",
      "metadata": {
        "colab": {
          "base_uri": "https://localhost:8080/"
        },
        "id": "hLwEs-gqQ7su",
        "outputId": "01d006fa-a520-4ad3-fab9-3a5cefc1c900"
      },
      "source": [
        "ytest[13]"
      ],
      "execution_count": 20,
      "outputs": [
        {
          "output_type": "execute_result",
          "data": {
            "text/plain": [
              "0"
            ]
          },
          "metadata": {},
          "execution_count": 20
        }
      ]
    },
    {
      "cell_type": "code",
      "metadata": {
        "colab": {
          "base_uri": "https://localhost:8080/"
        },
        "id": "CxirqY0ZRJr8",
        "outputId": "569079aa-7733-436b-a71c-85c9c5daa52c"
      },
      "source": [
        "ypred=dnn.predict(x=xtest[13].reshape(1,28*28))\n",
        "print(np.argmax(ypred)) #index with max probability"
      ],
      "execution_count": 21,
      "outputs": [
        {
          "output_type": "stream",
          "name": "stdout",
          "text": [
            "0\n"
          ]
        }
      ]
    },
    {
      "cell_type": "code",
      "metadata": {
        "id": "cb8DvKbbRk51"
      },
      "source": [
        ""
      ],
      "execution_count": 21,
      "outputs": []
    }
  ]
}